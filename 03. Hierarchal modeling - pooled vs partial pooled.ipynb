{
 "cells": [
  {
   "cell_type": "markdown",
   "metadata": {},
   "source": [
    "## 03: Hierarchal modeling"
   ]
  },
  {
   "cell_type": "code",
   "execution_count": 8,
   "metadata": {
    "collapsed": true
   },
   "outputs": [],
   "source": [
    "import json\n",
    "import matplotlib.pyplot as plt\n",
    "import numpy as np\n",
    "import pandas as pd\n",
    "import pymc3 as pm\n",
    "import scipy\n",
    "import scipy.stats as stats\n",
    "import statsmodels.api as sm\n",
    "import theano.tensor as tt\n",
    "\n",
    "from datetime import datetime\n",
    "from sklearn import preprocessing\n",
    "\n",
    "%matplotlib inline\n",
    "plt.style.use('bmh')\n",
    "colors = ['#348ABD', '#A60628', '#7A68A6', '#467821', '#D55E00', \n",
    "          '#CC79A7', '#56B4E9', '#009E73', '#F0E442', '#0072B2']\n",
    "\n",
    "messages = pd.read_csv('data/hangout_chat_data.csv')"
   ]
  },
  {
   "cell_type": "markdown",
   "metadata": {},
   "source": [
    "### Model Pooling\n",
    "Lets explore a different way of modeling the response time for my hangout conversations. My intuition would suggest that depending on the people in a hangout conversation (there can be more than one), my tendancy to reply quickly or slowly will change. As such, I could decide to model each conversation independently, estimating parameters $\\mu_i$ and $\\alpha_i$ for each conversation $i$.\n",
    "\n",
    "One consideration we must make, is that some conversations have very few messages compared to others. As such, our estimates of response time for small conversations will have a higher degree of uncertinity than conversations with a large number of messages. The belo plot illustrates the discrepancy in sample size per conversation."
   ]
  },
  {
   "cell_type": "code",
   "execution_count": 9,
   "metadata": {
    "collapsed": false
   },
   "outputs": [
    {
     "data": {
      "image/png": "[encoded data removed]",
      "text/plain": [
       "<matplotlib.figure.Figure at 0x1129b4710>"
      ]
     },
     "metadata": {},
     "output_type": "display_data"
    }
   ],
   "source": [
    "ax = messages.groupby('prev_sender')['conversation_id'].size().plot(\n",
    "    kind='bar', figsize=(12,3), title='Number of messages sent per recipient')\n",
    "_ = ax.set_xlabel('Previous Sender')\n",
    "_ = ax.set_ylabel('Number of messages')\n",
    "_ = plt.xticks(rotation=30)"
   ]
  },
  {
   "cell_type": "markdown",
   "metadata": {},
   "source": [
    "For each message j and each conversation i, we represent the model as:\n",
    "\n",
    "$$y_{ji} \\sim NegBinomial(\\mu_i, \\alpha_i)$$\n",
    "$$\\mu_i = Uniform(0, 100)$$\n",
    "$$\\alpha_i = Uniform(0, 100)$$"
   ]
  },
  {
   "cell_type": "code",
   "execution_count": null,
   "metadata": {
    "collapsed": true
   },
   "outputs": [],
   "source": [
    "indiv_traces = {}\n",
    "\n",
    "# Convert categorical variables to integer\n",
    "le = preprocessing.LabelEncoder()\n",
    "participants_idx = le.fit_transform(messages['prev_sender'])\n",
    "participants = le.classes_\n",
    "n_participants = len(participants)\n",
    "\n",
    "for p in participants:\n",
    "    with pm.Model() as model:\n",
    "        alpha = pm.Uniform('alpha', lower=0, upper=100)\n",
    "        mu = pm.Uniform('mu', lower=0, upper=100)\n",
    "\n",
    "        y_est = pm.NegativeBinomial('y_est', \n",
    "                                    mu=mu, \n",
    "                                    alpha=alpha, \n",
    "                                    observed=messages[my_messages['prev_sender']==p]['time_delay_seconds'].values)\n",
    "\n",
    "        y_pred = pm.NegativeBinomial('y_pred', \n",
    "                                     mu=mu, \n",
    "                                     alpha=alpha)\n",
    "        \n",
    "        start = pm.find_MAP()\n",
    "        step = pm.Metropolis()\n",
    "        trace = pm.sample(20000, step, start=start, progressbar=True)\n",
    "        \n",
    "        indiv_traces[p] = trace"
   ]
  },
  {
   "cell_type": "code",
   "execution_count": null,
   "metadata": {
    "collapsed": true
   },
   "outputs": [],
   "source": [
    "fig, axs = plt.subplots(3,2, figsize=(12, 6))\n",
    "axs = axs.ravel()\n",
    "y_left_max = 2\n",
    "y_right_max = 2000\n",
    "ix = [3,4,6]\n",
    "\n",
    "for i, j, p in zip([0,1,2], [0,2,4], participants[ix]):\n",
    "    axs[j].set_title('Observed: %s' % p)\n",
    "    axs[j].hist(messages[messages['prev_sender']==p]['time_delay_seconds'].values, range=[0, x_lim], bins=x_lim, histtype='stepfilled')\n",
    "    axs[j].set_ylim([0, y_left_max])\n",
    "\n",
    "for i, j, p in zip([0,1,2], [1,3,5], participants[ix]):\n",
    "    axs[j].set_title('Posterior predictive distribution: %s' % p)\n",
    "    axs[j].hist(indiv_traces[p].get_values('y_pred'), range=[0, x_lim], bins=x_lim, histtype='stepfilled', color=colors[1])\n",
    "    axs[j].set_ylim([0, y_right_max])\n",
    "\n",
    "axs[4].set_xlabel('Response time (seconds)')\n",
    "axs[5].set_xlabel('Response time (seconds)')\n",
    "\n",
    "plt.tight_layout()"
   ]
  },
  {
   "cell_type": "markdown",
   "metadata": {},
   "source": [
    "The above plots show the observed data (left) and the posterior predictive distribution (right) for 3 example conversations we modeled. As you can see, the posterior predictive distribution can vary considerably across conversations. This could accurately reflect the characteristics of the conversation or it could be a function of sample size.\n",
    "\n",
    "If we combine the posterior predictive distributions across models, we would expect this to resemble the distribution of the overall dataset observed."
   ]
  },
  {
   "cell_type": "code",
   "execution_count": null,
   "metadata": {
    "collapsed": true
   },
   "outputs": [],
   "source": [
    "combined_y_pred = np.concatenate([v.get_values('y_pred') for k, v in indiv_traces.iteritems()])\n",
    "\n",
    "x_lim = 60\n",
    "y_pred = trace.get_values('y_pred')\n",
    "\n",
    "fig = plt.figure(figsize=(12,6))\n",
    "fig.add_subplot(211)\n",
    "\n",
    "fig.add_subplot(211)\n",
    "\n",
    "_ = plt.hist(combined_y_pred, range=[0, x_lim], bins=x_lim, histtype='stepfilled', color=colors[1])   \n",
    "_ = plt.xlim(1, x_lim)\n",
    "_ = plt.ylim(0, 20000)\n",
    "_ = plt.ylabel('Frequency')\n",
    "_ = plt.title('Posterior predictive distribution')\n",
    "\n",
    "fig.add_subplot(212)\n",
    "\n",
    "_ = plt.hist(messages['time_delay_seconds'].values, range=[0, x_lim], bins=x_lim, histtype='stepfilled')\n",
    "_ = plt.xlim(0, x_lim)\n",
    "_ = plt.xlabel('Response time in seconds')\n",
    "_ = plt.ylim(0, 20)\n",
    "_ = plt.ylabel('Frequency')\n",
    "_ = plt.title('Distribution of observed data')\n",
    "\n",
    "plt.tight_layout()"
   ]
  },
  {
   "cell_type": "markdown",
   "metadata": {},
   "source": [
    "### Partial pooling\n",
    "One of the best aspects of Bayesian modeling is the flexibility of which one can create hierarchal models. Looking at the hangouts data as an example, I believe that I respond faster to some conversations and slower to others. Hence, I feel each conversation warrants its own parameter. However, it intuitively makes sense that I have an overarching tendancy to respond fast or slow to messages regardless of the conversation.\n",
    "\n",
    "Partial modeling is a great way to model this hierarchal dependancy. I will estimate  parameters $(\\mu_j)$ and $(\\alpha_j)$ for each conversation j. We represent the model as:\n",
    "\n",
    "$$y_{ji} \\sim NegBinomial(\\mu_i, \\alpha_i)$$\n",
    "$$\\mu_i = Gamma(HyperMuMu, HyperMuDelta)$$\n",
    "$$\\alpha_i = Gamma(HyperAlphaMu, HyperAlphaDelta)$$\n",
    "$$HyperMuMu = Uniform(0, 60)$$\n",
    "$$HyperMuDelta = Uniform(0, 50)$$\n",
    "$$HyperAlphaMu = Uniform(0, 10)$$\n",
    "$$HyperAlphaDelta = Uniform(0, 50)$$\n",
    "\n",
    "TODO: Comment on reparamaterization of Gamma. Currently not clear."
   ]
  },
  {
   "cell_type": "code",
   "execution_count": 2,
   "metadata": {
    "collapsed": false
   },
   "outputs": [
    {
     "ename": "NameError",
     "evalue": "name 'n_participants' is not defined",
     "output_type": "error",
     "traceback": [
      "\u001b[0;31m---------------------------------------------------------------------------\u001b[0m",
      "\u001b[0;31mNameError\u001b[0m                                 Traceback (most recent call last)",
      "\u001b[0;32m<ipython-input-2-651cd68b72ee>\u001b[0m in \u001b[0;36m<module>\u001b[0;34m()\u001b[0m\n\u001b[1;32m      6\u001b[0m     \u001b[0mhyper_mu_mu\u001b[0m \u001b[0;34m=\u001b[0m \u001b[0mpm\u001b[0m\u001b[0;34m.\u001b[0m\u001b[0mUniform\u001b[0m\u001b[0;34m(\u001b[0m\u001b[0;34m'hyper_mu_mu'\u001b[0m\u001b[0;34m,\u001b[0m \u001b[0mlower\u001b[0m\u001b[0;34m=\u001b[0m\u001b[0;36m0\u001b[0m\u001b[0;34m,\u001b[0m \u001b[0mupper\u001b[0m\u001b[0;34m=\u001b[0m\u001b[0;36m60\u001b[0m\u001b[0;34m)\u001b[0m\u001b[0;34m\u001b[0m\u001b[0m\n\u001b[1;32m      7\u001b[0m \u001b[0;34m\u001b[0m\u001b[0m\n\u001b[0;32m----> 8\u001b[0;31m     \u001b[0malpha\u001b[0m \u001b[0;34m=\u001b[0m \u001b[0mpm\u001b[0m\u001b[0;34m.\u001b[0m\u001b[0mGamma\u001b[0m\u001b[0;34m(\u001b[0m\u001b[0;34m'alpha'\u001b[0m\u001b[0;34m,\u001b[0m \u001b[0malpha\u001b[0m\u001b[0;34m=\u001b[0m\u001b[0mhyper_alpha_mu\u001b[0m\u001b[0;34m**\u001b[0m\u001b[0;36m2\u001b[0m\u001b[0;34m/\u001b[0m\u001b[0mhyper_alpha_delta\u001b[0m\u001b[0;34m**\u001b[0m\u001b[0;36m2\u001b[0m\u001b[0;34m,\u001b[0m \u001b[0mbeta\u001b[0m\u001b[0;34m=\u001b[0m\u001b[0mhyper_alpha_mu\u001b[0m\u001b[0;34m/\u001b[0m\u001b[0mhyper_alpha_delta\u001b[0m\u001b[0;34m**\u001b[0m\u001b[0;36m2\u001b[0m\u001b[0;34m,\u001b[0m \u001b[0mshape\u001b[0m\u001b[0;34m=\u001b[0m\u001b[0mn_participants\u001b[0m\u001b[0;34m)\u001b[0m\u001b[0;34m\u001b[0m\u001b[0m\n\u001b[0m\u001b[1;32m      9\u001b[0m     \u001b[0mmu\u001b[0m \u001b[0;34m=\u001b[0m \u001b[0mpm\u001b[0m\u001b[0;34m.\u001b[0m\u001b[0mGamma\u001b[0m\u001b[0;34m(\u001b[0m\u001b[0;34m'mu'\u001b[0m\u001b[0;34m,\u001b[0m \u001b[0malpha\u001b[0m\u001b[0;34m=\u001b[0m\u001b[0mhyper_mu_mu\u001b[0m\u001b[0;34m**\u001b[0m\u001b[0;36m2\u001b[0m\u001b[0;34m/\u001b[0m\u001b[0mhyper_mu_delta\u001b[0m\u001b[0;34m**\u001b[0m\u001b[0;36m2\u001b[0m\u001b[0;34m,\u001b[0m \u001b[0mbeta\u001b[0m\u001b[0;34m=\u001b[0m\u001b[0mhyper_mu_mu\u001b[0m\u001b[0;34m/\u001b[0m\u001b[0mhyper_mu_delta\u001b[0m\u001b[0;34m**\u001b[0m\u001b[0;36m2\u001b[0m\u001b[0;34m,\u001b[0m \u001b[0mshape\u001b[0m\u001b[0;34m=\u001b[0m\u001b[0mn_participants\u001b[0m\u001b[0;34m)\u001b[0m\u001b[0;34m\u001b[0m\u001b[0m\n\u001b[1;32m     10\u001b[0m \u001b[0;34m\u001b[0m\u001b[0m\n",
      "\u001b[0;31mNameError\u001b[0m: name 'n_participants' is not defined"
     ]
    }
   ],
   "source": [
    "with pm.Model() as model:\n",
    "    hyper_alpha_delta = pm.Uniform('hyper_alpha_delta', lower=0, upper=50)\n",
    "    hyper_alpha_mu = pm.Uniform('hyper_alpha_mu', lower=0, upper=10)\n",
    "    \n",
    "    hyper_mu_delta = pm.Uniform('hyper_mu_delta', lower=0, upper=50)\n",
    "    hyper_mu_mu = pm.Uniform('hyper_mu_mu', lower=0, upper=60)\n",
    "    \n",
    "    alpha = pm.Gamma('alpha', alpha=hyper_alpha_mu**2/hyper_alpha_delta**2, beta=hyper_alpha_mu/hyper_alpha_delta**2, shape=n_participants)\n",
    "    mu = pm.Gamma('mu', alpha=hyper_mu_mu**2/hyper_mu_delta**2, beta=hyper_mu_mu/hyper_mu_delta**2, shape=n_participants)\n",
    "    \n",
    "    y_est = pm.NegativeBinomial('y_est', \n",
    "                                mu=mu[participants_idx], \n",
    "                                alpha=alpha[participants_idx], \n",
    "                                observed=messages['time_delay_seconds'].values)\n",
    "    \n",
    "    y_pred = pm.NegativeBinomial('y_pred', \n",
    "                                 mu=mu[participants_idx], \n",
    "                                 alpha=alpha[participants_idx],\n",
    "                                 shape=messages['prev_sender'].shape)\n",
    "    \n",
    "    start = pm.find_MAP()\n",
    "    step = pm.Metropolis()\n",
    "    hierarchical_trace = pm.sample(200000, step, progressbar=True)"
   ]
  },
  {
   "cell_type": "code",
   "execution_count": null,
   "metadata": {
    "collapsed": true
   },
   "outputs": [],
   "source": [
    "_ = pm.traceplot(hierarchical_trace[100000:], \n",
    "                 vars=['mu','alpha','hyper_mu_mu',\n",
    "                       'hyper_mu_delta','hyper_alpha_mu',\n",
    "                       'hyper_alpha_delta'])"
   ]
  },
  {
   "cell_type": "code",
   "execution_count": null,
   "metadata": {
    "collapsed": true
   },
   "outputs": [],
   "source": [
    "x_lim = 60\n",
    "y_pred = hierarchical_trace.get_values('y_pred').ravel()\n",
    "\n",
    "fig = plt.figure(figsize=(12,6))\n",
    "fig.add_subplot(211)\n",
    "\n",
    "fig.add_subplot(211)\n",
    "\n",
    "_ = plt.hist(y_pred, range=[0, x_lim], bins=x_lim, histtype='stepfilled', color=colors[1])   \n",
    "_ = plt.xlim(1, x_lim)\n",
    "_ = plt.ylabel('Frequency')\n",
    "_ = plt.title('Posterior predictive distribution')\n",
    "\n",
    "fig.add_subplot(212)\n",
    "\n",
    "_ = plt.hist(messages['time_delay_seconds'].values, range=[0, x_lim], bins=x_lim, histtype='stepfilled')\n",
    "_ = plt.xlabel('Response time in seconds')\n",
    "_ = plt.ylabel('Frequency')\n",
    "_ = plt.title('Distribution of observed data')\n",
    "\n",
    "plt.tight_layout()"
   ]
  },
  {
   "cell_type": "markdown",
   "metadata": {},
   "source": [
    "### Shrinkage effect: pooled vs hierarchal model\n",
    "TODO: Comment on shrinkage effect of hierarchal model"
   ]
  },
  {
   "cell_type": "code",
   "execution_count": null,
   "metadata": {
    "collapsed": true
   },
   "outputs": [],
   "source": [
    "hier_mu = hierarchical_trace['mu'][500:].mean(axis=0)\n",
    "hier_alpha = hierarchical_trace['alpha'][500:].mean(axis=0)\n",
    "indv_mu = [indiv_traces[p]['mu'][500:].mean() for p in participants]\n",
    "indv_alpha = [indiv_traces[p]['alpha'][500:].mean() for p in participants]\n",
    "\n",
    "fig = plt.figure(figsize=(8, 6))\n",
    "ax = fig.add_subplot(111, xlabel='mu', ylabel='alpha', \n",
    "                     title='Hierarchical vs. Non-hierarchical Negative Binomial Model', \n",
    "                     xlim=(5, 45), ylim=(-10, 60))\n",
    "\n",
    "ax.scatter(indv_mu, indv_alpha, c=colors[5], s=50, label = 'Non Hierarchical', zorder=3)\n",
    "ax.scatter(hier_mu, hier_alpha, c=colors[6], s=50, label = 'Hierarchical', zorder=4)\n",
    "for i in range(len(indv_mu)):  \n",
    "    ax.arrow(indv_mu[i], indv_alpha[i], hier_mu[i] - indv_mu[i], hier_alpha[i] - indv_alpha[i], \n",
    "            fc=\"grey\", ec=\"grey\", length_includes_head=True, alpha=.5, head_width=.7)\n",
    "\n",
    "_ = ax.legend()"
   ]
  },
  {
   "cell_type": "markdown",
   "metadata": {},
   "source": [
    "### Asking questions to the model\n",
    "TODO: Make this readable\n",
    "Questions I might want to ask of the posterior distribution\n",
    "- what are the chances I will respond to Carsten in less than 20 seconds?\n",
    "- who are the people I am most likely to respond to fastest?\n",
    "- need a few good examples here..."
   ]
  },
  {
   "cell_type": "code",
   "execution_count": null,
   "metadata": {
    "collapsed": true
   },
   "outputs": [],
   "source": [
    "def prob_respond(person, response_time):\n",
    "    # find person's index\n",
    "    ix = np.where(participants == person)[0][0]\n",
    "    return 100*np.sum(hierarchical_trace['y_pred'][:, ix] < response_time)/np.float(len(hierarchical_trace['y_pred'][:, ix]))"
   ]
  },
  {
   "cell_type": "code",
   "execution_count": null,
   "metadata": {
    "collapsed": true
   },
   "outputs": [],
   "source": [
    "prob_respond('Daniel Goehl', 33)"
   ]
  },
  {
   "cell_type": "code",
   "execution_count": null,
   "metadata": {
    "collapsed": true
   },
   "outputs": [],
   "source": []
  },
  {
   "cell_type": "code",
   "execution_count": 1,
   "metadata": {
    "collapsed": false
   },
   "outputs": [
    {
     "data": {
      "text/html": [
       "<style>\n",
       "    @font-face {\n",
       "        font-family: \"Computer Modern\";\n",
       "        src: url('http://9dbb143991406a7c655e-aa5fcb0a5a4ec34cff238a2d56ca4144.r56.cf5.rackcdn.com/cmunss.otf');\n",
       "    }\n",
       "    @font-face {\n",
       "        font-family: \"Computer Modern\";\n",
       "        font-weight: bold;\n",
       "        src: url('http://9dbb143991406a7c655e-aa5fcb0a5a4ec34cff238a2d56ca4144.r56.cf5.rackcdn.com/cmunsx.otf');\n",
       "    }\n",
       "    @font-face {\n",
       "        font-family: \"Computer Modern\";\n",
       "        font-style: oblique;\n",
       "        src: url('http://9dbb143991406a7c655e-aa5fcb0a5a4ec34cff238a2d56ca4144.r56.cf5.rackcdn.com/cmunsi.otf');\n",
       "    }\n",
       "    @font-face {\n",
       "        font-family: \"Computer Modern\";\n",
       "        font-weight: bold;\n",
       "        font-style: oblique;\n",
       "        src: url('http://9dbb143991406a7c655e-aa5fcb0a5a4ec34cff238a2d56ca4144.r56.cf5.rackcdn.com/cmunso.otf');\n",
       "    }\n",
       "    div.cell{\n",
       "        width:800px;\n",
       "        margin-left:16% !important;\n",
       "        margin-right:auto;\n",
       "    }\n",
       "    h1 {\n",
       "        font-family: Helvetica, serif;\n",
       "    }\n",
       "    h4{\n",
       "        margin-top:12px;\n",
       "        margin-bottom: 3px;\n",
       "       }\n",
       "    div.text_cell_render{\n",
       "        font-family: Computer Modern, \"Helvetica Neue\", Arial, Helvetica, Geneva, sans-serif;\n",
       "        line-height: 145%;\n",
       "        font-size: 130%;\n",
       "        width:800px;\n",
       "        margin-left:auto;\n",
       "        margin-right:auto;\n",
       "    }\n",
       "    .CodeMirror{\n",
       "            font-family: \"Source Code Pro\", source-code-pro,Consolas, monospace;\n",
       "    }\n",
       "    .prompt{\n",
       "        display: None;\n",
       "    }\n",
       "    .text_cell_render h5 {\n",
       "        font-weight: 300;\n",
       "        font-size: 22pt;\n",
       "        color: #4057A1;\n",
       "        font-style: italic;\n",
       "        margin-bottom: .5em;\n",
       "        margin-top: 0.5em;\n",
       "        display: block;\n",
       "    }\n",
       "    \n",
       "    .warning{\n",
       "        color: rgb( 240, 20, 20 )\n",
       "        }  \n",
       "</style>\n",
       "<script>\n",
       "    MathJax.Hub.Config({\n",
       "                        TeX: {\n",
       "                           extensions: [\"AMSmath.js\"]\n",
       "                           },\n",
       "                tex2jax: {\n",
       "                    inlineMath: [ ['$','$'], [\"\\\\(\",\"\\\\)\"] ],\n",
       "                    displayMath: [ ['$$','$$'], [\"\\\\[\",\"\\\\]\"] ]\n",
       "                },\n",
       "                displayAlign: 'center', // Change this to 'center' to center equations.\n",
       "                \"HTML-CSS\": {\n",
       "                    styles: {'.MathJax_Display': {\"margin\": 4}}\n",
       "                }\n",
       "        });\n",
       "</script>\n"
      ],
      "text/plain": [
       "<IPython.core.display.HTML object>"
      ]
     },
     "execution_count": 1,
     "metadata": {},
     "output_type": "execute_result"
    }
   ],
   "source": [
    "# Apply pretty styles\n",
    "from IPython.core.display import HTML\n",
    "\n",
    "def css_styling():\n",
    "    styles = open(\"styles/custom.css\", \"r\").read()\n",
    "    return HTML(styles)\n",
    "css_styling()"
   ]
  },
  {
   "cell_type": "code",
   "execution_count": null,
   "metadata": {
    "collapsed": true
   },
   "outputs": [],
   "source": []
  }
 ],
 "metadata": {
  "kernelspec": {
   "display_name": "Python 2",
   "language": "python",
   "name": "python2"
  },
  "language_info": {
   "codemirror_mode": {
    "name": "ipython",
    "version": 2
   },
   "file_extension": ".py",
   "mimetype": "text/x-python",
   "name": "python",
   "nbconvert_exporter": "python",
   "pygments_lexer": "ipython2",
   "version": "2.7.10"
  }
 },
 "nbformat": 4,
 "nbformat_minor": 0
}

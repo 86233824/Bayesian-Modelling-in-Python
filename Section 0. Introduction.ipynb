{
 "cells": [
  {
   "cell_type": "markdown",
   "metadata": {},
   "source": [
    "## Bayesian Modelling in Python\n",
    "Mark Regan\n",
    "\n",
    "---\n",
    "\n",
    "### Section 0: Introduction\n",
    "Welcome to \"Bayesian Modelling in Python\" - a tutorial for those interested in learning Bayesian statistics in Python. You can find a list of all tutorial sections on the project's [homepage](https://github.com/markdregan/Hangout-with-PyMC3).\n",
    "\n",
    "Statistics is a topic that never resonated with me throughout my years in university. The frequentist techniques that we were taught (p-values, etc.) felt contrived and ultimately, I turned my back on statistics as a topic that I wasn't interested in.\n",
    "\n",
    "That was until I stumbled upon Bayesian statistics - a branch of statistics quite different from the traditional frequentist statistics that most universities teach. I was inspired by a number of different publications, blogs & videos that I would highly recommend any newbies to Bayesian stats to begin with. They include:\n",
    "- [Doing Bayesian Data Analysis](http://www.amazon.com/Doing-Bayesian-Analysis-Second-Edition/dp/0124058884/ref=dp_ob_title_bk) by John Kruschke\n",
    "- [Python port](https://github.com/aloctavodia/Doing_Bayesian_data_analysis) of John Kruschke's examples by Osvaldo Martin\n",
    "- [Bayesian Methods for Hackers](https://github.com/CamDavidsonPilon/Probabilistic-Programming-and-Bayesian-Methods-for-Hackers) provided me with a great source of inspiration to learn Bayesian stats. In recognition of this influence, I've adopted the same visual styles as BMH.\n",
    "- [While My MCMC Gently Samples](http://twiecki.github.io/) blog by Thomas Wiecki\n",
    "- [Healthy Algorithms](http://healthyalgorithms.com/tag/pymc/) blog by Abraham Flaxman\n",
    "- [Scipy Tutorial 2014](https://github.com/fonnesbeck/scipy2014_tutorial) by Chris Fonnesbeck\n",
    "\n",
    "I created this tutorial in the hope that others find it useful and it helps them learn Bayesian techniques just like the above resources helped me. I'd welcome any corrections/comments/contributions from the community.\n",
    "\n",
    "---\n",
    "\n",
    "### Loading your Google Hangout chat data\n",
    "Throughout this tutorial, we will use a dataset containing all of my Google Hangout chat messages. I've removed the messages content and anonymized my friends' names; the rest of the dataset is unaltered.\n",
    "\n",
    "If you'd like to use your Hangout chat data whilst working through this tutorial, you can download your Google Hangout data from [Google Takeout](https://www.google.com/settings/takeout/custom/chat). The Hangout data is downloadable in JSON format. After downloading, you can replace the `hangouts.json` file in the data folder.\n",
    "\n",
    "The json file is heavily nested and contains a lot of redundant information. Some of the key fields are summarized below:\n",
    "\n",
    "| Field           | Description                                                    | Example                                      |\n",
    "|-----------------|----------------------------------------------------------------|----------------------------------------------|\n",
    "| `conversation_id` | Conversation id representing the chat thread                   | Ugw5Xrm3ZO5mzAfKB7V4AaABAQ                   |\n",
    "| `participants`    | List of participants in the chat thread                        | [Mark, Peter, John]                          |\n",
    "| `event_id`        | Id representing an event such as chat message or video hangout | 7-H0Z7-FkyB7-H0au2avdw                       |\n",
    "| `timestamp`       | Timestamp                                                      | 2014-08-15 01:54:12                          |\n",
    "| `message`         | Content of the message sent                                    | Went to the local wedding photographer today |\n",
    "| `sender`          | Sender of the message                                          | Mark Regan                                   |"
   ]
  },
  {
   "cell_type": "code",
   "execution_count": 3,
   "metadata": {
    "collapsed": false
   },
   "outputs": [],
   "source": [
    "import json\n",
    "import matplotlib.pyplot as plt\n",
    "import numpy as np\n",
    "import pandas as pd\n",
    "import seaborn.apionly as sns\n",
    "\n",
    "from datetime import datetime\n",
    "\n",
    "%matplotlib inline\n",
    "plt.style.use('bmh')\n",
    "colors = ['#348ABD', '#A60628', '#7A68A6', '#467821', '#D55E00', \n",
    "          '#CC79A7', '#56B4E9', '#009E73', '#F0E442', '#0072B2']"
   ]
  },
  {
   "cell_type": "markdown",
   "metadata": {},
   "source": [
    "The below code loads the json data and parses each message into a single row in a pandas DataFrame.\n",
    "> Note: the data/ directory is missing the hangouts.json file. You must download and add your own JSON file as described above. Alternatively, you can skip to the next section where I import an anonymized dataset."
   ]
  },
  {
   "cell_type": "code",
   "execution_count": 6,
   "metadata": {
    "collapsed": false
   },
   "outputs": [],
   "source": [
    "# Import json data\n",
    "with open('data/hangouts.json') as json_file:\n",
    "    json_data = json.load(json_file)\n",
    "\n",
    "# Generate map from gaia_id to real name\n",
    "def user_name_mapping(data):\n",
    "    user_map = {'gaia_id': ''}\n",
    "    for state in data['conversation_state']:\n",
    "        participants = state['conversation_state']['conversation']['participant_data']\n",
    "        for participant in participants:\n",
    "            if 'fallback_name' in participant:\n",
    "                user_map[participant['id']['gaia_id']] = participant['fallback_name']\n",
    "\n",
    "    return user_map\n",
    "\n",
    "user_dict = user_name_mapping(json_data)\n",
    "\n",
    "# Parse data into flat list\n",
    "def fetch_messages(data):\n",
    "    messages = []\n",
    "    for state in data['conversation_state']:\n",
    "        conversation_state = state['conversation_state']\n",
    "        conversation = conversation_state['conversation']\n",
    "        conversation_id = conversation_state['conversation']['id']['id']\n",
    "        participants = conversation['participant_data']\n",
    "\n",
    "        all_participants = []\n",
    "        for participant in participants:\n",
    "            if 'fallback_name' in participant:\n",
    "                user = participant['fallback_name']\n",
    "            else:\n",
    "                # Scope to call G+ API to get name\n",
    "                user = participant['id']['gaia_id']\n",
    "            all_participants.append(user)\n",
    "            num_participants = len(all_participants)\n",
    "        \n",
    "        for event in conversation_state['event']:\n",
    "            try:\n",
    "                sender = user_dict[event['sender_id']['gaia_id']]\n",
    "            except:\n",
    "                sender = event['sender_id']['gaia_id']\n",
    "            \n",
    "            timestamp = datetime.fromtimestamp(float(float(event['timestamp'])/10**6.))\n",
    "            event_id = event['event_id']\n",
    "\n",
    "            if 'chat_message' in event:\n",
    "                content = event['chat_message']['message_content']\n",
    "                if 'segment' in content:\n",
    "                    segments = content['segment']\n",
    "                    for segment in segments:\n",
    "                        if 'text' in segment:\n",
    "                            message = segment['text']\n",
    "                            message_length = len(message)\n",
    "                            message_type = segment['type']\n",
    "                            if len(message) > 0:\n",
    "                                messages.append((conversation_id,\n",
    "                                                 event_id, \n",
    "                                                 timestamp, \n",
    "                                                 sender, \n",
    "                                                 message,\n",
    "                                                 message_length,\n",
    "                                                 all_participants,\n",
    "                                                 ', '.join(all_participants),\n",
    "                                                 num_participants,\n",
    "                                                 message_type))\n",
    "\n",
    "    messages.sort(key=lambda x: x[0])\n",
    "    return messages\n",
    "\n",
    "# Parse data into data frame\n",
    "cols = ['conversation_id', 'event_id', 'timestamp', 'sender', \n",
    "        'message', 'message_length', 'participants', 'participants_str', \n",
    "        'num_participants', 'message_type']\n",
    "\n",
    "messages = pd.DataFrame(fetch_messages(json_data), columns=cols).sort(['conversation_id', 'timestamp'])"
   ]
  },
  {
   "cell_type": "code",
   "execution_count": 7,
   "metadata": {
    "collapsed": false
   },
   "outputs": [
    {
     "data": {
      "text/html": [
       "<div>\n",
       "<table border=\"1\" class=\"dataframe\">\n",
       "  <thead>\n",
       "    <tr style=\"text-align: right;\">\n",
       "      <th></th>\n",
       "      <th>conversation_id</th>\n",
       "      <th>event_id</th>\n",
       "      <th>timestamp</th>\n",
       "      <th>sender</th>\n",
       "      <th>message</th>\n",
       "      <th>message_length</th>\n",
       "      <th>participants</th>\n",
       "      <th>participants_str</th>\n",
       "      <th>num_participants</th>\n",
       "      <th>message_type</th>\n",
       "      <th>prev_timestamp</th>\n",
       "      <th>prev_sender</th>\n",
       "      <th>time_delay_seconds</th>\n",
       "      <th>time_delay_mins</th>\n",
       "      <th>day_of_week</th>\n",
       "      <th>year_month</th>\n",
       "      <th>is_weekend</th>\n",
       "    </tr>\n",
       "  </thead>\n",
       "  <tbody>\n",
       "    <tr>\n",
       "      <th>10</th>\n",
       "      <td>Ugw5Xrm3ZO5mzAfKB7V4AaABAQ</td>\n",
       "      <td>7-H0Z7-FkyB7-HDBYj4KKh</td>\n",
       "      <td>2014-08-15 03:44:12.840014</td>\n",
       "      <td>Mark Regan</td>\n",
       "      <td>Thanks guys!!!</td>\n",
       "      <td>14</td>\n",
       "      <td>[Keir Alexander, Louise Alexander Regan, Mark ...</td>\n",
       "      <td>Keir Alexander, Louise Alexander Regan, Mark R...</td>\n",
       "      <td>3</td>\n",
       "      <td>TEXT</td>\n",
       "      <td>2014-08-15 03:44:00.781652</td>\n",
       "      <td>Keir Alexander</td>\n",
       "      <td>12</td>\n",
       "      <td>1</td>\n",
       "      <td>4</td>\n",
       "      <td>2014-08</td>\n",
       "      <td>0</td>\n",
       "    </tr>\n",
       "  </tbody>\n",
       "</table>\n",
       "</div>"
      ],
      "text/plain": [
       "               conversation_id                event_id  \\\n",
       "10  Ugw5Xrm3ZO5mzAfKB7V4AaABAQ  7-H0Z7-FkyB7-HDBYj4KKh   \n",
       "\n",
       "                    timestamp      sender         message  message_length  \\\n",
       "10 2014-08-15 03:44:12.840014  Mark Regan  Thanks guys!!!              14   \n",
       "\n",
       "                                         participants  \\\n",
       "10  [Keir Alexander, Louise Alexander Regan, Mark ...   \n",
       "\n",
       "                                     participants_str  num_participants  \\\n",
       "10  Keir Alexander, Louise Alexander Regan, Mark R...                 3   \n",
       "\n",
       "   message_type             prev_timestamp     prev_sender  \\\n",
       "10         TEXT 2014-08-15 03:44:00.781652  Keir Alexander   \n",
       "\n",
       "    time_delay_seconds  time_delay_mins  day_of_week year_month  is_weekend  \n",
       "10                  12                1            4    2014-08           0  "
      ]
     },
     "execution_count": 7,
     "metadata": {},
     "output_type": "execute_result"
    }
   ],
   "source": [
    "# Engineer features\n",
    "messages['prev_timestamp'] = messages.groupby(['conversation_id'])['timestamp'].shift(1)\n",
    "messages['prev_sender'] = messages.groupby(['conversation_id'])['sender'].shift(1)\n",
    "\n",
    "# Exclude messages are are replies to oneself (not first reply)\n",
    "messages = messages[messages['sender'] != messages['prev_sender']]\n",
    "\n",
    "# Time delay\n",
    "messages['time_delay_seconds'] = (messages['timestamp'] - messages['prev_timestamp']).astype('timedelta64[s]')\n",
    "messages = messages[messages['time_delay_seconds'].notnull()]\n",
    "messages['time_delay_mins'] = np.ceil(messages['time_delay_seconds'].astype(int)/60.0)\n",
    "\n",
    "# Time attributes\n",
    "messages['day_of_week'] = messages['timestamp'].apply(lambda x: x.dayofweek)\n",
    "messages['year_month'] = messages['timestamp'].apply(lambda x: x.strftime(\"%Y-%m\"))\n",
    "messages['is_weekend'] = messages['day_of_week'].isin([5,6]).apply(lambda x: 1 if x == True else 0)\n",
    "\n",
    "# Limit to messages sent by me and exclude all messages between me and Alison\n",
    "messages = messages[(messages['sender'] == 'Mark Regan') & (messages['participants_str'] != 'Alison Darcy, Mark Regan')]\n",
    "\n",
    "# Remove messages not responded within 60 seconds\n",
    "# This introduces an issue by right censoring the data (might return to address)\n",
    "messages = messages[messages['time_delay_seconds'] < 60]\n",
    "\n",
    "messages.head(1)"
   ]
  },
  {
   "cell_type": "markdown",
   "metadata": {},
   "source": [
    "We now have a data model that we can work with more easily. The above table shows a single row in the pandas DataFrame. I'm interested in how long it takes me to respond to messages. Let's create some plots that describe my typical response times."
   ]
  },
  {
   "cell_type": "code",
   "execution_count": 10,
   "metadata": {
    "collapsed": false
   },
   "outputs": [
    {
     "data": {
      "image/png": "[encoded data removed]",
      "text/plain": [
       "<matplotlib.figure.Figure at 0x10cbd6630>"
      ]
     },
     "metadata": {},
     "output_type": "display_data"
    }
   ],
   "source": [
    "fig = plt.figure(figsize=(10,7))\n",
    "ax = fig.add_subplot(211)\n",
    "\n",
    "order = np.sort(messages['year_month'].unique())\n",
    "sns.boxplot(x=messages['year_month'], y=messages['time_delay_seconds'], order=order, orient=\"v\", color=colors[5], linewidth=1, ax=ax)\n",
    "_ = ax.set_title('Response time distribution by month')\n",
    "_ = ax.set_xlabel('Month-Year')\n",
    "_ = ax.set_ylabel('Response time')\n",
    "_ = plt.xticks(rotation=30)\n",
    "\n",
    "ax = fig.add_subplot(212)\n",
    "plt.hist(messages['time_delay_seconds'].values, range=[0, 60], bins=60, histtype='stepfilled', color=colors[0])\n",
    "_ = ax.set_title('Response time distribution')\n",
    "_ = ax.set_xlabel('Response time (seconds)')\n",
    "_ = ax.set_ylabel('Number of messages')\n",
    "\n",
    "plt.tight_layout()"
   ]
  },
  {
   "cell_type": "markdown",
   "metadata": {},
   "source": [
    "The above plots give a monthly and an overall perspective of the length of time (in seconds) that it takes me to respond to messages. At this point I have a lot of questions that I want to ask of the data. For example:\n",
    "1. Is my response time affected by who I am talking to?\n",
    "2. Are there environmental factors that affect my response time (day of week, location, etc.)?\n",
    "3. What is the best and worst day to get in touch with me?\n",
    "\n",
    "Before we try and answer some of these questions, lets take some baby steps by estimating some parameters of a model that describes the above data. That'll make it easier for us to understand the data and inquire further.\n",
    "\n",
    "In the next section, we'll estimate parameters that describe the above distribution.\n",
    "\n",
    "#### [>> Go to the Next Section](http://nbviewer.ipython.org/github/markdregan/Bayesian-Modelling-in-Python/blob/master/Section%201.%20Estimating%20model%20parameters.ipynb)\n",
    "\n",
    "### Export data for usage throughout tutorial"
   ]
  },
  {
   "cell_type": "code",
   "execution_count": 12,
   "metadata": {
    "collapsed": false
   },
   "outputs": [],
   "source": [
    "# excluded some colums from csv output\n",
    "messages.drop(['participants', 'message', 'participants_str'], axis=1, inplace=True)\n",
    "\n",
    "# Save csv to data folder\n",
    "messages.to_csv('data/hangout_chat_data.csv', index=False)"
   ]
  },
  {
   "cell_type": "markdown",
   "metadata": {},
   "source": [
    "### References\n",
    "1. [Hangout reader](https://bitbucket.org/dotcs/hangouts-log-reader/) by Fabian Mueller"
   ]
  },
  {
   "cell_type": "code",
   "execution_count": 2,
   "metadata": {
    "collapsed": false
   },
   "outputs": [
    {
     "data": {
      "text/html": [
       "<style>\n",
       "    @font-face {\n",
       "        font-family: \"Computer Modern\";\n",
       "        src: url('http://9dbb143991406a7c655e-aa5fcb0a5a4ec34cff238a2d56ca4144.r56.cf5.rackcdn.com/cmunss.otf');\n",
       "    }\n",
       "    @font-face {\n",
       "        font-family: \"Computer Modern\";\n",
       "        font-weight: bold;\n",
       "        src: url('http://9dbb143991406a7c655e-aa5fcb0a5a4ec34cff238a2d56ca4144.r56.cf5.rackcdn.com/cmunsx.otf');\n",
       "    }\n",
       "    @font-face {\n",
       "        font-family: \"Computer Modern\";\n",
       "        font-style: oblique;\n",
       "        src: url('http://9dbb143991406a7c655e-aa5fcb0a5a4ec34cff238a2d56ca4144.r56.cf5.rackcdn.com/cmunsi.otf');\n",
       "    }\n",
       "    @font-face {\n",
       "        font-family: \"Computer Modern\";\n",
       "        font-weight: bold;\n",
       "        font-style: oblique;\n",
       "        src: url('http://9dbb143991406a7c655e-aa5fcb0a5a4ec34cff238a2d56ca4144.r56.cf5.rackcdn.com/cmunso.otf');\n",
       "    }\n",
       "    div.cell{\n",
       "        width:800px;\n",
       "        margin-left:16% !important;\n",
       "        margin-right:auto;\n",
       "    }\n",
       "    h1 {\n",
       "        font-family: Helvetica, serif;\n",
       "    }\n",
       "    h4{\n",
       "        margin-top:12px;\n",
       "        margin-bottom: 3px;\n",
       "       }\n",
       "    div.text_cell_render{\n",
       "        font-family: Computer Modern, \"Helvetica Neue\", Arial, Helvetica, Geneva, sans-serif;\n",
       "        line-height: 145%;\n",
       "        font-size: 130%;\n",
       "        width:800px;\n",
       "        margin-left:auto;\n",
       "        margin-right:auto;\n",
       "    }\n",
       "    .CodeMirror{\n",
       "            font-family: \"Source Code Pro\", source-code-pro,Consolas, monospace;\n",
       "    }\n",
       "    .prompt{\n",
       "        display: None;\n",
       "    }\n",
       "    .text_cell_render h5 {\n",
       "        font-weight: 300;\n",
       "        font-size: 22pt;\n",
       "        color: #4057A1;\n",
       "        font-style: italic;\n",
       "        margin-bottom: .5em;\n",
       "        margin-top: 0.5em;\n",
       "        display: block;\n",
       "    }\n",
       "    \n",
       "    .warning{\n",
       "        color: rgb( 240, 20, 20 )\n",
       "        }  \n",
       "</style>\n",
       "<script>\n",
       "    MathJax.Hub.Config({\n",
       "                        TeX: {\n",
       "                           extensions: [\"AMSmath.js\"]\n",
       "                           },\n",
       "                tex2jax: {\n",
       "                    inlineMath: [ ['$','$'], [\"\\\\(\",\"\\\\)\"] ],\n",
       "                    displayMath: [ ['$$','$$'], [\"\\\\[\",\"\\\\]\"] ]\n",
       "                },\n",
       "                displayAlign: 'center', // Change this to 'center' to center equations.\n",
       "                \"HTML-CSS\": {\n",
       "                    styles: {'.MathJax_Display': {\"margin\": 4}}\n",
       "                }\n",
       "        });\n",
       "</script>\n"
      ],
      "text/plain": [
       "<IPython.core.display.HTML object>"
      ]
     },
     "execution_count": 2,
     "metadata": {},
     "output_type": "execute_result"
    }
   ],
   "source": [
    "# Apply pretty styles\n",
    "from IPython.core.display import HTML\n",
    "\n",
    "def css_styling():\n",
    "    styles = open(\"styles/custom.css\", \"r\").read()\n",
    "    return HTML(styles)\n",
    "css_styling()"
   ]
  }
 ],
 "metadata": {
  "kernelspec": {
   "display_name": "Python 3",
   "language": "python",
   "name": "python3"
  },
  "language_info": {
   "codemirror_mode": {
    "name": "ipython",
    "version": 3
   },
   "file_extension": ".py",
   "mimetype": "text/x-python",
   "name": "python",
   "nbconvert_exporter": "python",
   "pygments_lexer": "ipython3",
   "version": "3.5.0"
  }
 },
 "nbformat": 4,
 "nbformat_minor": 0
}
